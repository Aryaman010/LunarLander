{
 "cells": [
  {
   "cell_type": "code",
   "execution_count": 2,
   "metadata": {},
   "outputs": [],
   "source": [
    "import gym\n",
    "import tensorflow as tf\n",
    "import numpy as np\n"
   ]
  },
  {
   "cell_type": "code",
   "execution_count": 3,
   "metadata": {},
   "outputs": [
    {
     "name": "stdout",
     "output_type": "stream",
     "text": [
      "WARNING:tensorflow:\n",
      "The TensorFlow contrib module will not be included in TensorFlow 2.0.\n",
      "For more information, please see:\n",
      "  * https://github.com/tensorflow/community/blob/master/rfcs/20180907-contrib-sunset.md\n",
      "  * https://github.com/tensorflow/addons\n",
      "  * https://github.com/tensorflow/io (for I/O related ops)\n",
      "If you depend on functionality not listed there, please file an issue.\n",
      "\n"
     ]
    },
    {
     "name": "stderr",
     "output_type": "stream",
     "text": [
      "C:\\Users\\Aryaman\\AppData\\Roaming\\Python\\Python36\\site-packages\\stable_baselines\\__init__.py:33: UserWarning: stable-baselines is in maintenance mode, please use [Stable-Baselines3 (SB3)](https://github.com/DLR-RM/stable-baselines3) for an up-to-date version. You can find a [migration guide](https://stable-baselines3.readthedocs.io/en/master/guide/migration.html) in SB3 documentation.\n",
      "  \"stable-baselines is in maintenance mode, please use [Stable-Baselines3 (SB3)](https://github.com/DLR-RM/stable-baselines3) for an up-to-date version. You can find a [migration guide](https://stable-baselines3.readthedocs.io/en/master/guide/migration.html) in SB3 documentation.\"\n"
     ]
    }
   ],
   "source": [
    "from stable_baselines import DQN\n",
    "from stable_baselines.common.vec_env import DummyVecEnv\n",
    "from stable_baselines.deepq.policies import LnMlpPolicy\n",
    "from stable_baselines.common.evaluation import evaluate_policy\n",
    "#from stable_baselines3.common.noise import NormalActionNoise, OrnsteinUhlenbeckActionNoise\n"
   ]
  },
  {
   "cell_type": "code",
   "execution_count": 5,
   "metadata": {},
   "outputs": [],
   "source": [
    "env_name = 'LunarLander-v2'"
   ]
  },
  {
   "cell_type": "code",
   "execution_count": 6,
   "metadata": {},
   "outputs": [],
   "source": [
    "env = gym.make(env_name)\n"
   ]
  },
  {
   "cell_type": "code",
   "execution_count": 7,
   "metadata": {},
   "outputs": [],
   "source": [
    "env = DummyVecEnv([lambda: env])\n"
   ]
  },
  {
   "cell_type": "code",
   "execution_count": 8,
   "metadata": {},
   "outputs": [
    {
     "name": "stdout",
     "output_type": "stream",
     "text": [
      "WARNING:tensorflow:From C:\\Users\\Aryaman\\AppData\\Roaming\\Python\\Python36\\site-packages\\stable_baselines\\common\\tf_util.py:191: The name tf.ConfigProto is deprecated. Please use tf.compat.v1.ConfigProto instead.\n",
      "\n",
      "WARNING:tensorflow:From C:\\Users\\Aryaman\\AppData\\Roaming\\Python\\Python36\\site-packages\\stable_baselines\\common\\tf_util.py:200: The name tf.Session is deprecated. Please use tf.compat.v1.Session instead.\n",
      "\n",
      "WARNING:tensorflow:From C:\\Users\\Aryaman\\AppData\\Roaming\\Python\\Python36\\site-packages\\stable_baselines\\deepq\\dqn.py:129: The name tf.train.AdamOptimizer is deprecated. Please use tf.compat.v1.train.AdamOptimizer instead.\n",
      "\n",
      "WARNING:tensorflow:From C:\\Users\\Aryaman\\AppData\\Roaming\\Python\\Python36\\site-packages\\stable_baselines\\deepq\\build_graph.py:358: The name tf.variable_scope is deprecated. Please use tf.compat.v1.variable_scope instead.\n",
      "\n",
      "WARNING:tensorflow:From C:\\Users\\Aryaman\\AppData\\Roaming\\Python\\Python36\\site-packages\\stable_baselines\\deepq\\build_graph.py:359: The name tf.placeholder is deprecated. Please use tf.compat.v1.placeholder instead.\n",
      "\n",
      "WARNING:tensorflow:From C:\\Users\\Aryaman\\AppData\\Roaming\\Python\\Python36\\site-packages\\stable_baselines\\deepq\\build_graph.py:139: The name tf.get_variable is deprecated. Please use tf.compat.v1.get_variable instead.\n",
      "\n",
      "WARNING:tensorflow:From C:\\Users\\Aryaman\\AppData\\Roaming\\Python\\Python36\\site-packages\\stable_baselines\\deepq\\policies.py:109: flatten (from tensorflow.python.layers.core) is deprecated and will be removed in a future version.\n",
      "Instructions for updating:\n",
      "Use keras.layers.flatten instead.\n",
      "WARNING:tensorflow:From C:\\Users\\Aryaman\\AppData\\Roaming\\Python\\Python36\\site-packages\\tensorflow_core\\python\\layers\\core.py:332: Layer.apply (from tensorflow.python.keras.engine.base_layer) is deprecated and will be removed in a future version.\n",
      "Instructions for updating:\n",
      "Please use `layer.__call__` method instead.\n",
      "WARNING:tensorflow:From C:\\Users\\Aryaman\\AppData\\Roaming\\Python\\Python36\\site-packages\\stable_baselines\\deepq\\build_graph.py:147: The name tf.random_uniform is deprecated. Please use tf.random.uniform instead.\n",
      "\n",
      "WARNING:tensorflow:From C:\\Users\\Aryaman\\AppData\\Roaming\\Python\\Python36\\site-packages\\stable_baselines\\deepq\\build_graph.py:149: where (from tensorflow.python.ops.array_ops) is deprecated and will be removed in a future version.\n",
      "Instructions for updating:\n",
      "Use tf.where in 2.0, which has the same broadcast rule as np.where\n",
      "WARNING:tensorflow:From C:\\Users\\Aryaman\\AppData\\Roaming\\Python\\Python36\\site-packages\\stable_baselines\\deepq\\build_graph.py:372: The name tf.get_collection is deprecated. Please use tf.compat.v1.get_collection instead.\n",
      "\n",
      "WARNING:tensorflow:From C:\\Users\\Aryaman\\AppData\\Roaming\\Python\\Python36\\site-packages\\stable_baselines\\deepq\\build_graph.py:372: The name tf.GraphKeys is deprecated. Please use tf.compat.v1.GraphKeys instead.\n",
      "\n",
      "WARNING:tensorflow:From C:\\Users\\Aryaman\\AppData\\Roaming\\Python\\Python36\\site-packages\\stable_baselines\\deepq\\build_graph.py:372: The name tf.get_variable_scope is deprecated. Please use tf.compat.v1.get_variable_scope instead.\n",
      "\n",
      "WARNING:tensorflow:From C:\\Users\\Aryaman\\AppData\\Roaming\\Python\\Python36\\site-packages\\stable_baselines\\deepq\\build_graph.py:415: The name tf.summary.scalar is deprecated. Please use tf.compat.v1.summary.scalar instead.\n",
      "\n",
      "WARNING:tensorflow:From C:\\Users\\Aryaman\\AppData\\Roaming\\Python\\Python36\\site-packages\\stable_baselines\\deepq\\build_graph.py:449: The name tf.summary.merge_all is deprecated. Please use tf.compat.v1.summary.merge_all instead.\n",
      "\n",
      "WARNING:tensorflow:From C:\\Users\\Aryaman\\AppData\\Roaming\\Python\\Python36\\site-packages\\stable_baselines\\common\\tf_util.py:241: The name tf.global_variables is deprecated. Please use tf.compat.v1.global_variables instead.\n",
      "\n",
      "WARNING:tensorflow:From C:\\Users\\Aryaman\\AppData\\Roaming\\Python\\Python36\\site-packages\\stable_baselines\\common\\tf_util.py:242: The name tf.variables_initializer is deprecated. Please use tf.compat.v1.variables_initializer instead.\n",
      "\n"
     ]
    }
   ],
   "source": [
    "\n",
    "model = DQN(LnMlpPolicy, env, verbose=1)\n",
    "\n"
   ]
  },
  {
   "cell_type": "code",
   "execution_count": null,
   "metadata": {},
   "outputs": [],
   "source": [
    "tf.compat.v1.get_default_session()"
   ]
  },
  {
   "cell_type": "code",
   "execution_count": null,
   "metadata": {},
   "outputs": [],
   "source": [
    "model.learn(total_timesteps=6000)"
   ]
  },
  {
   "cell_type": "code",
   "execution_count": null,
   "metadata": {},
   "outputs": [],
   "source": [
    "model = DQN.load(\"DQN(LnM)-50000_model\", env = env)"
   ]
  },
  {
   "cell_type": "code",
   "execution_count": null,
   "metadata": {},
   "outputs": [],
   "source": [
    "evaluate_policy(model, env,n_eval_episodes=10,render=True)\n",
    "env.close()"
   ]
  },
  {
   "cell_type": "code",
   "execution_count": null,
   "metadata": {},
   "outputs": [],
   "source": [
    "model.save(\"DQN(LnM)-1000_model\")"
   ]
  },
  {
   "cell_type": "code",
   "execution_count": 53,
   "metadata": {},
   "outputs": [
    {
     "name": "stdout",
     "output_type": "stream",
     "text": [
      "Episode:1 Score[-61.673367]\n",
      "Episode:2 Score[238.30986]\n",
      "Episode:3 Score[156.6096]\n",
      "Episode:4 Score[-29.481308]\n",
      "Episode:5 Score[-33.150406]\n",
      "Episode:6 Score[-77.218994]\n",
      "Episode:7 Score[255.19025]\n",
      "Episode:8 Score[-80.07915]\n",
      "Episode:9 Score[213.99904]\n",
      "Episode:10 Score[216.82361]\n",
      "Episode:11 Score[276.1698]\n",
      "Episode:12 Score[-51.858772]\n",
      "Episode:13 Score[37.85898]\n",
      "Episode:14 Score[125.90098]\n",
      "Episode:15 Score[-125.28718]\n",
      "Episode:16 Score[-68.18914]\n",
      "Episode:17 Score[240.29399]\n",
      "Episode:18 Score[129.60211]\n",
      "Episode:19 Score[158.014]\n",
      "Episode:20 Score[102.00169]\n",
      "Episode:21 Score[9.828545]\n",
      "Episode:22 Score[199.23563]\n",
      "Episode:23 Score[258.4735]\n",
      "Episode:24 Score[245.91881]\n",
      "Episode:25 Score[28.227234]\n",
      "Episode:26 Score[21.07434]\n",
      "Episode:27 Score[213.07349]\n",
      "Episode:28 Score[39.780807]\n",
      "Episode:29 Score[2.0381393]\n",
      "Episode:30 Score[244.34196]\n",
      "Episode:31 Score[219.63356]\n",
      "Episode:32 Score[-46.51862]\n",
      "Episode:33 Score[241.16379]\n",
      "Episode:34 Score[237.86832]\n",
      "Episode:35 Score[-75.91176]\n",
      "Episode:36 Score[217.5423]\n",
      "Episode:37 Score[10.194023]\n",
      "Episode:38 Score[201.78839]\n",
      "Episode:39 Score[262.47546]\n",
      "Episode:40 Score[103.27879]\n",
      "Episode:41 Score[-92.915405]\n",
      "Episode:42 Score[259.94666]\n",
      "Episode:43 Score[-83.058044]\n",
      "Episode:44 Score[6.028801]\n",
      "Episode:45 Score[39.78282]\n",
      "Episode:46 Score[274.57758]\n",
      "Episode:47 Score[98.499756]\n",
      "Episode:48 Score[-52.92016]\n",
      "Episode:49 Score[256.56564]\n",
      "Episode:50 Score[-123.09084]\n",
      "Episode:51 Score[260.25226]\n",
      "Episode:52 Score[271.7995]\n",
      "Episode:53 Score[-25.655502]\n",
      "Episode:54 Score[161.60895]\n",
      "Episode:55 Score[251.75462]\n",
      "Episode:56 Score[-16.715149]\n",
      "Episode:57 Score[283.9507]\n",
      "Episode:58 Score[90.7965]\n",
      "Episode:59 Score[53.18253]\n",
      "Episode:60 Score[-101.07044]\n",
      "Episode:61 Score[277.28784]\n",
      "Episode:62 Score[-118.966934]\n",
      "Episode:63 Score[254.7255]\n",
      "Episode:64 Score[270.72272]\n",
      "Episode:65 Score[202.77829]\n",
      "Episode:66 Score[-89.0643]\n",
      "Episode:67 Score[-83.951706]\n",
      "Episode:68 Score[249.91362]\n",
      "Episode:69 Score[206.50224]\n",
      "Episode:70 Score[135.59209]\n",
      "Episode:71 Score[276.97675]\n",
      "Episode:72 Score[220.23997]\n",
      "Episode:73 Score[-77.93202]\n",
      "Episode:74 Score[228.47061]\n",
      "Episode:75 Score[207.38867]\n",
      "Episode:76 Score[224.81279]\n",
      "Episode:77 Score[171.21599]\n",
      "Episode:78 Score[242.48965]\n",
      "Episode:79 Score[-74.918365]\n",
      "Episode:80 Score[248.16736]\n",
      "Episode:81 Score[138.6336]\n",
      "Episode:82 Score[53.784256]\n",
      "Episode:83 Score[147.5951]\n",
      "Episode:84 Score[41.150787]\n",
      "Episode:85 Score[270.1723]\n",
      "Episode:86 Score[7.009392]\n",
      "Episode:87 Score[-9.202332]\n",
      "Episode:88 Score[227.77446]\n",
      "Episode:89 Score[219.40472]\n",
      "Episode:90 Score[275.63123]\n",
      "Episode:91 Score[-108.74489]\n",
      "Episode:92 Score[240.10837]\n",
      "Episode:93 Score[249.54889]\n",
      "Episode:94 Score[-12.816872]\n",
      "Episode:95 Score[254.63516]\n",
      "Episode:96 Score[222.09158]\n",
      "Episode:97 Score[7.3302]\n",
      "Episode:98 Score[260.13135]\n",
      "avg score [117.62611]\n"
     ]
    }
   ],
   "source": [
    "model = DQN.load(\"DQN(LnM)-50000_model\", env = env)\n",
    "obs = env.reset()\n",
    "\n",
    "episodes = 100\n",
    "total_score =0\n",
    "lst1 = []\n",
    "lst2 = []\n",
    "for episode in range(1,episodes-1):\n",
    "    state = env.reset()\n",
    "    done = False\n",
    "    score = 0\n",
    "    \n",
    "    while not done:\n",
    "        #env.render()\n",
    "        action, _states = model.predict(obs) \n",
    "        obs, reward, done, info = env.step(action)\n",
    "        score+= reward\n",
    "        total_score+=reward\n",
    "\n",
    "    print('Episode:{} Score{}'.format(episode,score))\n",
    "    lst1.append(score)\n",
    "    lst2.append(episode)\n",
    "print(\"avg score\", str(total_score/episode))\n",
    "#print(lst2,lst1)\n",
    "env.close()"
   ]
  },
  {
   "cell_type": "code",
   "execution_count": 54,
   "metadata": {},
   "outputs": [],
   "source": [
    "\n",
    "lst1 = [i.item() for i in lst1]\n"
   ]
  },
  {
   "cell_type": "code",
   "execution_count": 55,
   "metadata": {},
   "outputs": [
    {
     "data": {
      "image/png": "[encoded data removed]",
      "text/plain": [
       "<Figure size 432x288 with 1 Axes>"
      ]
     },
     "metadata": {
      "needs_background": "light"
     },
     "output_type": "display_data"
    }
   ],
   "source": [
    "import matplotlib.pyplot as plt \n",
    "\n",
    "\n",
    "plt.plot(lst2,lst1)\n",
    "plt.xlabel(\"Episodes\")\n",
    "plt.ylabel(\"Scores\")\n",
    "plt.savefig(\"50000-output.jpg\")\n",
    "\n",
    "plt.show()\n"
   ]
  },
  {
   "cell_type": "code",
   "execution_count": 72,
   "metadata": {},
   "outputs": [],
   "source": [
    "env.close()"
   ]
  },
  {
   "cell_type": "code",
   "execution_count": null,
   "metadata": {},
   "outputs": [],
   "source": []
  },
  {
   "cell_type": "code",
   "execution_count": null,
   "metadata": {},
   "outputs": [],
   "source": []
  },
  {
   "cell_type": "code",
   "execution_count": null,
   "metadata": {},
   "outputs": [],
   "source": []
  }
 ],
 "metadata": {
  "kernelspec": {
   "display_name": "he2",
   "language": "python",
   "name": "python3"
  },
  "language_info": {
   "codemirror_mode": {
    "name": "ipython",
    "version": 3
   },
   "file_extension": ".py",
   "mimetype": "text/x-python",
   "name": "python",
   "nbconvert_exporter": "python",
   "pygments_lexer": "ipython3",
   "version": "3.6.13"
  },
  "orig_nbformat": 4,
  "vscode": {
   "interpreter": {
    "hash": "4da64681f33cbef1aee73846e0608651d3110b5465e1ce25a3b4efceb34c727f"
   }
  }
 },
 "nbformat": 4,
 "nbformat_minor": 2
}
